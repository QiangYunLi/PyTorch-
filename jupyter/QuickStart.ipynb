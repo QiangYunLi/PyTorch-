{
 "cells": [
  {
   "cell_type": "markdown",
   "id": "1c088227",
   "metadata": {},
   "source": [
    "# 官网教程- Quickstart 笔记\n",
    "[官网](https://pytorch.org/tutorials/beginner/basics/quickstart_tutorial.html)\n",
    "## 数据\n",
    "PyTorch 提供两个数据相关的类：**torch.utils.data.DataLoader**、**torch.utils.data.Dataset**  \n",
    "**torch.utils.data.Dataset**: 官方提供的一些开源数据。  \n",
    "**torch.utils.data.DataLoader**: 数据处理迭代器，可提供常用是数据处理操作。"
   ]
  },
  {
   "cell_type": "code",
   "execution_count": 1,
   "id": "06012272",
   "metadata": {},
   "outputs": [],
   "source": [
    "import torch\n",
    "from torch import nn\n",
    "from torch.utils.data import DataLoader\n",
    "from torchvision import datasets\n",
    "from torchvision.transforms import ToTensor"
   ]
  },
  {
   "cell_type": "markdown",
   "id": "059f2c5c",
   "metadata": {},
   "source": [
    "## 领域库\n",
    "PyTorch 提供不同领域的库：[TorchText](https://pytorch.org/text/stable/index.html)、[TorchVision](https://pytorch.org/vision/stable/index.html)、[TorchAudio](https://pytorch.org/audio/stable/index.html)"
   ]
  },
  {
   "cell_type": "markdown",
   "id": "310ba5e1",
   "metadata": {},
   "source": [
    "## 下载数据"
   ]
  },
  {
   "cell_type": "code",
   "execution_count": 2,
   "id": "62cb455d",
   "metadata": {
    "collapsed": true
   },
   "outputs": [
    {
     "name": "stdout",
     "output_type": "stream",
     "text": [
      "Downloading http://fashion-mnist.s3-website.eu-central-1.amazonaws.com/train-images-idx3-ubyte.gz\n",
      "Downloading http://fashion-mnist.s3-website.eu-central-1.amazonaws.com/train-images-idx3-ubyte.gz to data\\FashionMNIST\\raw\\train-images-idx3-ubyte.gz\n"
     ]
    },
    {
     "name": "stderr",
     "output_type": "stream",
     "text": [
      "100.0%\n"
     ]
    },
    {
     "name": "stdout",
     "output_type": "stream",
     "text": [
      "Extracting data\\FashionMNIST\\raw\\train-images-idx3-ubyte.gz to data\\FashionMNIST\\raw\n",
      "\n",
      "Downloading http://fashion-mnist.s3-website.eu-central-1.amazonaws.com/train-labels-idx1-ubyte.gz\n",
      "Downloading http://fashion-mnist.s3-website.eu-central-1.amazonaws.com/train-labels-idx1-ubyte.gz to data\\FashionMNIST\\raw\\train-labels-idx1-ubyte.gz\n"
     ]
    },
    {
     "name": "stderr",
     "output_type": "stream",
     "text": [
      "100.0%\n"
     ]
    },
    {
     "name": "stdout",
     "output_type": "stream",
     "text": [
      "Extracting data\\FashionMNIST\\raw\\train-labels-idx1-ubyte.gz to data\\FashionMNIST\\raw\n",
      "\n",
      "Downloading http://fashion-mnist.s3-website.eu-central-1.amazonaws.com/t10k-images-idx3-ubyte.gz\n",
      "Downloading http://fashion-mnist.s3-website.eu-central-1.amazonaws.com/t10k-images-idx3-ubyte.gz to data\\FashionMNIST\\raw\\t10k-images-idx3-ubyte.gz\n"
     ]
    },
    {
     "name": "stderr",
     "output_type": "stream",
     "text": [
      "100.0%\n"
     ]
    },
    {
     "name": "stdout",
     "output_type": "stream",
     "text": [
      "Extracting data\\FashionMNIST\\raw\\t10k-images-idx3-ubyte.gz to data\\FashionMNIST\\raw\n",
      "\n",
      "Downloading http://fashion-mnist.s3-website.eu-central-1.amazonaws.com/t10k-labels-idx1-ubyte.gz\n",
      "Downloading http://fashion-mnist.s3-website.eu-central-1.amazonaws.com/t10k-labels-idx1-ubyte.gz to data\\FashionMNIST\\raw\\t10k-labels-idx1-ubyte.gz\n"
     ]
    },
    {
     "name": "stderr",
     "output_type": "stream",
     "text": [
      "\r",
      "100.0%"
     ]
    },
    {
     "name": "stdout",
     "output_type": "stream",
     "text": [
      "Extracting data\\FashionMNIST\\raw\\t10k-labels-idx1-ubyte.gz to data\\FashionMNIST\\raw\n",
      "\n"
     ]
    },
    {
     "name": "stderr",
     "output_type": "stream",
     "text": [
      "\n"
     ]
    }
   ],
   "source": [
    "# Download training data from open datasets.\n",
    "training_data = datasets.FashionMNIST(\n",
    "    root=\"data\",\n",
    "    train=True,\n",
    "    download=True,\n",
    "    transform=ToTensor(),\n",
    ")\n",
    "\n",
    "# Download test data from open datasets.\n",
    "test_data = datasets.FashionMNIST(\n",
    "    root=\"data\",\n",
    "    train=False,\n",
    "    download=True,\n",
    "    transform=ToTensor(),\n",
    ")"
   ]
  },
  {
   "cell_type": "markdown",
   "id": "98c2e571",
   "metadata": {},
   "source": [
    "# 数据处理\n",
    "将数据传给**DataLoader**进行数据处理"
   ]
  },
  {
   "cell_type": "code",
   "execution_count": 3,
   "id": "7d884469",
   "metadata": {
    "collapsed": true
   },
   "outputs": [
    {
     "name": "stdout",
     "output_type": "stream",
     "text": [
      "Shape of X [N, C, H, W]: torch.Size([64, 1, 28, 28])\n",
      "Shape of y: torch.Size([64]) torch.int64\n"
     ]
    }
   ],
   "source": [
    "batch_size = 64\n",
    "\n",
    "# Create data loaders.\n",
    "train_dataloader = DataLoader(training_data, batch_size=batch_size)\n",
    "test_dataloader = DataLoader(test_data, batch_size=batch_size)\n",
    "\n",
    "for X, y in test_dataloader:\n",
    "    print(f\"Shape of X [N, C, H, W]: {X.shape}\")\n",
    "    print(f\"Shape of y: {y.shape} {y.dtype}\")\n",
    "    break"
   ]
  },
  {
   "cell_type": "markdown",
   "id": "935689e1",
   "metadata": {},
   "source": [
    "## 创建模型\n",
    "1. 创建模型类，该类继承与**nn.Module**;\n",
    "2. 在**__init__**中定义需要的网络层；\n",
    "3. 在**forware**中实现网络结构(前向传播）；\n",
    "4. 如果GPU可用的话将模型载入GPU中。"
   ]
  },
  {
   "cell_type": "code",
   "execution_count": 4,
   "id": "11e9d883",
   "metadata": {
    "collapsed": true
   },
   "outputs": [
    {
     "name": "stdout",
     "output_type": "stream",
     "text": [
      "Using cuda device\n",
      "NeuralNetwork(\n",
      "  (flatten): Flatten(start_dim=1, end_dim=-1)\n",
      "  (linear_relu_stack): Sequential(\n",
      "    (0): Linear(in_features=784, out_features=512, bias=True)\n",
      "    (1): ReLU()\n",
      "    (2): Linear(in_features=512, out_features=512, bias=True)\n",
      "    (3): ReLU()\n",
      "    (4): Linear(in_features=512, out_features=10, bias=True)\n",
      "  )\n",
      ")\n"
     ]
    }
   ],
   "source": [
    "# Get cpu or gpu device for training.\n",
    "device = \"cuda\" if torch.cuda.is_available() else \"cpu\"\n",
    "print(f\"Using {device} device\")\n",
    "\n",
    "# Define model\n",
    "class NeuralNetwork(nn.Module):\n",
    "    def __init__(self):\n",
    "        super(NeuralNetwork, self).__init__()\n",
    "        self.flatten = nn.Flatten()\n",
    "        self.linear_relu_stack = nn.Sequential(\n",
    "            nn.Linear(28*28, 512),\n",
    "            nn.ReLU(),\n",
    "            nn.Linear(512, 512),\n",
    "            nn.ReLU(),\n",
    "            nn.Linear(512, 10)\n",
    "        )\n",
    "\n",
    "    def forward(self, x):\n",
    "        x = self.flatten(x)\n",
    "        logits = self.linear_relu_stack(x)\n",
    "        return logits\n",
    "\n",
    "model = NeuralNetwork().to(device)\n",
    "print(model)"
   ]
  },
  {
   "cell_type": "markdown",
   "id": "6cbe385a",
   "metadata": {},
   "source": [
    "## 损失函数和优化器"
   ]
  },
  {
   "cell_type": "code",
   "execution_count": 5,
   "id": "3c31b402",
   "metadata": {},
   "outputs": [],
   "source": [
    "loss_fn = nn.CrossEntropyLoss()\n",
    "optimizer = torch.optim.SGD(model.parameters(), lr=1e-3)"
   ]
  },
  {
   "cell_type": "markdown",
   "id": "675b7666",
   "metadata": {},
   "source": [
    "## 训练\n",
    "### 一次数据训练的训练流程(loop)\n",
    "1. 模型预测；\n",
    "2. 反向传播"
   ]
  },
  {
   "cell_type": "code",
   "execution_count": 6,
   "id": "c6095331",
   "metadata": {},
   "outputs": [],
   "source": [
    "def train(dataloader, model, loss_fn, optimizer):\n",
    "    size = len(dataloader.dataset)\n",
    "    model.train()\n",
    "    for batch, (X, y) in enumerate(dataloader):\n",
    "        X, y = X.to(device), y.to(device)\n",
    "\n",
    "        # Compute prediction error\n",
    "        pred = model(X)\n",
    "        loss = loss_fn(pred, y)\n",
    "\n",
    "        # Backpropagation\n",
    "        optimizer.zero_grad()\n",
    "        loss.backward()\n",
    "        optimizer.step()\n",
    "\n",
    "        if batch % 100 == 0:\n",
    "            loss, current = loss.item(), batch * len(X)\n",
    "            print(f\"loss: {loss:>7f}  [{current:>5d}/{size:>5d}]\")"
   ]
  },
  {
   "cell_type": "markdown",
   "id": "5480c43a",
   "metadata": {},
   "source": [
    "## 通过测试数据检测模型性能"
   ]
  },
  {
   "cell_type": "code",
   "execution_count": 7,
   "id": "d1ebabc3",
   "metadata": {},
   "outputs": [],
   "source": [
    "def test(dataloader, model, loss_fn):\n",
    "    size = len(dataloader.dataset)\n",
    "    num_batches = len(dataloader)\n",
    "    model.eval()\n",
    "    test_loss, correct = 0, 0\n",
    "    with torch.no_grad():\n",
    "        for X, y in dataloader:\n",
    "            X, y = X.to(device), y.to(device)\n",
    "            pred = model(X)\n",
    "            test_loss += loss_fn(pred, y).item()\n",
    "            correct += (pred.argmax(1) == y).type(torch.float).sum().item()\n",
    "    test_loss /= num_batches\n",
    "    correct /= size\n",
    "    print(f\"Test Error: \\n Accuracy: {(100*correct):>0.1f}%, Avg loss: {test_loss:>8f} \\n\")"
   ]
  },
  {
   "cell_type": "markdown",
   "id": "a8aebf09",
   "metadata": {},
   "source": [
    "## 进行多轮数据训练"
   ]
  },
  {
   "cell_type": "code",
   "execution_count": 8,
   "id": "9d2f5078",
   "metadata": {},
   "outputs": [
    {
     "name": "stdout",
     "output_type": "stream",
     "text": [
      "Epoch 1\n",
      "-------------------------------\n",
      "loss: 2.314386  [    0/60000]\n",
      "loss: 2.301813  [ 6400/60000]\n",
      "loss: 2.283430  [12800/60000]\n",
      "loss: 2.271753  [19200/60000]\n",
      "loss: 2.249379  [25600/60000]\n",
      "loss: 2.223309  [32000/60000]\n",
      "loss: 2.234460  [38400/60000]\n",
      "loss: 2.199915  [44800/60000]\n",
      "loss: 2.194132  [51200/60000]\n",
      "loss: 2.169718  [57600/60000]\n",
      "Test Error: \n",
      " Accuracy: 48.6%, Avg loss: 2.162025 \n",
      "\n",
      "Epoch 2\n",
      "-------------------------------\n",
      "loss: 2.175573  [    0/60000]\n",
      "loss: 2.165338  [ 6400/60000]\n",
      "loss: 2.107556  [12800/60000]\n",
      "loss: 2.116529  [19200/60000]\n",
      "loss: 2.065055  [25600/60000]\n",
      "loss: 2.010356  [32000/60000]\n",
      "loss: 2.038589  [38400/60000]\n",
      "loss: 1.960442  [44800/60000]\n",
      "loss: 1.961038  [51200/60000]\n",
      "loss: 1.897536  [57600/60000]\n",
      "Test Error: \n",
      " Accuracy: 57.6%, Avg loss: 1.893170 \n",
      "\n",
      "Epoch 3\n",
      "-------------------------------\n",
      "loss: 1.931176  [    0/60000]\n",
      "loss: 1.899253  [ 6400/60000]\n",
      "loss: 1.782973  [12800/60000]\n",
      "loss: 1.815587  [19200/60000]\n",
      "loss: 1.705374  [25600/60000]\n",
      "loss: 1.661443  [32000/60000]\n",
      "loss: 1.682549  [38400/60000]\n",
      "loss: 1.587259  [44800/60000]\n",
      "loss: 1.614198  [51200/60000]\n",
      "loss: 1.507700  [57600/60000]\n",
      "Test Error: \n",
      " Accuracy: 60.4%, Avg loss: 1.527539 \n",
      "\n",
      "Epoch 4\n",
      "-------------------------------\n",
      "loss: 1.598965  [    0/60000]\n",
      "loss: 1.561090  [ 6400/60000]\n",
      "loss: 1.416522  [12800/60000]\n",
      "loss: 1.480768  [19200/60000]\n",
      "loss: 1.359733  [25600/60000]\n",
      "loss: 1.352274  [32000/60000]\n",
      "loss: 1.365704  [38400/60000]\n",
      "loss: 1.295600  [44800/60000]\n",
      "loss: 1.333937  [51200/60000]\n",
      "loss: 1.226798  [57600/60000]\n",
      "Test Error: \n",
      " Accuracy: 63.0%, Avg loss: 1.259365 \n",
      "\n",
      "Epoch 5\n",
      "-------------------------------\n",
      "loss: 1.339820  [    0/60000]\n",
      "loss: 1.316129  [ 6400/60000]\n",
      "loss: 1.159617  [12800/60000]\n",
      "loss: 1.257779  [19200/60000]\n",
      "loss: 1.130375  [25600/60000]\n",
      "loss: 1.148523  [32000/60000]\n",
      "loss: 1.167137  [38400/60000]\n",
      "loss: 1.112065  [44800/60000]\n",
      "loss: 1.154070  [51200/60000]\n",
      "loss: 1.061296  [57600/60000]\n",
      "Test Error: \n",
      " Accuracy: 64.5%, Avg loss: 1.089963 \n",
      "\n",
      "Done!\n"
     ]
    }
   ],
   "source": [
    "epochs = 5\n",
    "for t in range(epochs):\n",
    "    print(f\"Epoch {t+1}\\n-------------------------------\")\n",
    "    train(train_dataloader, model, loss_fn, optimizer)\n",
    "    test(test_dataloader, model, loss_fn)\n",
    "print(\"Done!\")"
   ]
  },
  {
   "cell_type": "code",
   "execution_count": null,
   "id": "931108f5",
   "metadata": {},
   "outputs": [],
   "source": []
  }
 ],
 "metadata": {
  "kernelspec": {
   "display_name": "Python 3 (ipykernel)",
   "language": "python",
   "name": "python3"
  },
  "language_info": {
   "codemirror_mode": {
    "name": "ipython",
    "version": 3
   },
   "file_extension": ".py",
   "mimetype": "text/x-python",
   "name": "python",
   "nbconvert_exporter": "python",
   "pygments_lexer": "ipython3",
   "version": "3.10.6"
  }
 },
 "nbformat": 4,
 "nbformat_minor": 5
}
